{
 "cells": [
  {
   "cell_type": "code",
   "execution_count": null,
   "metadata": {},
   "outputs": [],
   "source": [
    "#!pip install multi-label-pigeon"
   ]
  },
  {
   "cell_type": "code",
   "execution_count": 1,
   "metadata": {},
   "outputs": [
    {
     "data": {
      "text/plain": [
       "'C:\\\\Users\\\\james\\\\TDI_Capstone'"
      ]
     },
     "execution_count": 1,
     "metadata": {},
     "output_type": "execute_result"
    }
   ],
   "source": [
    "import pandas as pd\n",
    "import os\n",
    "os.getcwd()"
   ]
  },
  {
   "cell_type": "code",
   "execution_count": null,
   "metadata": {},
   "outputs": [],
   "source": []
  },
  {
   "cell_type": "code",
   "execution_count": 2,
   "metadata": {},
   "outputs": [],
   "source": [
    "os.chdir('sfh_images')"
   ]
  },
  {
   "cell_type": "code",
   "execution_count": 3,
   "metadata": {},
   "outputs": [
    {
     "data": {
      "application/vnd.jupyter.widget-view+json": {
       "model_id": "a39fa5c982ac4a26b4a49c6c21dff48a",
       "version_major": 2,
       "version_minor": 0
      },
      "text/plain": [
       "HTML(value='0 examples annotated, 77 examples left')"
      ]
     },
     "metadata": {},
     "output_type": "display_data"
    },
    {
     "name": "stdout",
     "output_type": "stream",
     "text": [
      "trees_behind_prop\n"
     ]
    },
    {
     "data": {
      "application/vnd.jupyter.widget-view+json": {
       "model_id": "90ce6bddf888480385274a518d7ba662",
       "version_major": 2,
       "version_minor": 0
      },
      "text/plain": [
       "HBox(children=(Button(description='yes', style=ButtonStyle()),))"
      ]
     },
     "metadata": {},
     "output_type": "display_data"
    },
    {
     "name": "stdout",
     "output_type": "stream",
     "text": [
      "entire_prop\n"
     ]
    },
    {
     "data": {
      "application/vnd.jupyter.widget-view+json": {
       "model_id": "5f031f9f49ee45b1b34a01a85373fd30",
       "version_major": 2,
       "version_minor": 0
      },
      "text/plain": [
       "HBox(children=(Button(description='yes', style=ButtonStyle()),))"
      ]
     },
     "metadata": {},
     "output_type": "display_data"
    },
    {
     "name": "stdout",
     "output_type": "stream",
     "text": [
      "lawn\n"
     ]
    },
    {
     "data": {
      "application/vnd.jupyter.widget-view+json": {
       "model_id": "374dbe2f29c44a38bd59e44bc8359e6a",
       "version_major": 2,
       "version_minor": 0
      },
      "text/plain": [
       "HBox(children=(Button(description='yes', style=ButtonStyle()),))"
      ]
     },
     "metadata": {},
     "output_type": "display_data"
    },
    {
     "name": "stdout",
     "output_type": "stream",
     "text": [
      "front\n"
     ]
    },
    {
     "data": {
      "application/vnd.jupyter.widget-view+json": {
       "model_id": "f7f545f32ef24a008a6c66c0463d1159",
       "version_major": 2,
       "version_minor": 0
      },
      "text/plain": [
       "HBox(children=(Button(description='yes', style=ButtonStyle()),))"
      ]
     },
     "metadata": {},
     "output_type": "display_data"
    },
    {
     "name": "stdout",
     "output_type": "stream",
     "text": [
      "side\n"
     ]
    },
    {
     "data": {
      "application/vnd.jupyter.widget-view+json": {
       "model_id": "4e47a20af189417cbbde5aac0c4f7c7d",
       "version_major": 2,
       "version_minor": 0
      },
      "text/plain": [
       "HBox(children=(Button(description='yes', style=ButtonStyle()),))"
      ]
     },
     "metadata": {},
     "output_type": "display_data"
    },
    {
     "name": "stdout",
     "output_type": "stream",
     "text": [
      "back\n"
     ]
    },
    {
     "data": {
      "application/vnd.jupyter.widget-view+json": {
       "model_id": "9cff828c618e43e1879d82446102d7df",
       "version_major": 2,
       "version_minor": 0
      },
      "text/plain": [
       "HBox(children=(Button(description='yes', style=ButtonStyle()),))"
      ]
     },
     "metadata": {},
     "output_type": "display_data"
    },
    {
     "name": "stdout",
     "output_type": "stream",
     "text": [
      "inside\n"
     ]
    },
    {
     "data": {
      "application/vnd.jupyter.widget-view+json": {
       "model_id": "d603c8fe6ca6412d92e5addca41bf57a",
       "version_major": 2,
       "version_minor": 0
      },
      "text/plain": [
       "HBox(children=(Button(description='yes', style=ButtonStyle()),))"
      ]
     },
     "metadata": {},
     "output_type": "display_data"
    },
    {
     "name": "stdout",
     "output_type": "stream",
     "text": [
      "collage\n"
     ]
    },
    {
     "data": {
      "application/vnd.jupyter.widget-view+json": {
       "model_id": "68e3e083f8c54fb8b0ba073260815178",
       "version_major": 2,
       "version_minor": 0
      },
      "text/plain": [
       "HBox(children=(Button(description='yes', style=ButtonStyle()),))"
      ]
     },
     "metadata": {},
     "output_type": "display_data"
    },
    {
     "name": "stdout",
     "output_type": "stream",
     "text": [
      "cars\n"
     ]
    },
    {
     "data": {
      "application/vnd.jupyter.widget-view+json": {
       "model_id": "10a9d4c0bbce4a2c9c33aed6168d15e5",
       "version_major": 2,
       "version_minor": 0
      },
      "text/plain": [
       "HBox(children=(Button(description='yes', style=ButtonStyle()),))"
      ]
     },
     "metadata": {},
     "output_type": "display_data"
    },
    {
     "name": "stdout",
     "output_type": "stream",
     "text": [
      "more_than1\n"
     ]
    },
    {
     "data": {
      "application/vnd.jupyter.widget-view+json": {
       "model_id": "6f6aa1b2ac9f4f748abbbe9baa2ff7df",
       "version_major": 2,
       "version_minor": 0
      },
      "text/plain": [
       "HBox(children=(Button(description='yes', style=ButtonStyle()),))"
      ]
     },
     "metadata": {},
     "output_type": "display_data"
    },
    {
     "name": "stdout",
     "output_type": "stream",
     "text": [
      "\n"
     ]
    },
    {
     "data": {
      "application/vnd.jupyter.widget-view+json": {
       "model_id": "c7aa87b13b4645dc8fca2efc98a1bf4c",
       "version_major": 2,
       "version_minor": 0
      },
      "text/plain": [
       "HBox(children=(Button(description='done', style=ButtonStyle()), Button(description='back', style=ButtonStyle()…"
      ]
     },
     "metadata": {},
     "output_type": "display_data"
    },
    {
     "data": {
      "application/vnd.jupyter.widget-view+json": {
       "model_id": "7c709f5e34c04311affbc99b9aec9aaf",
       "version_major": 2,
       "version_minor": 0
      },
      "text/plain": [
       "Output()"
      ]
     },
     "metadata": {},
     "output_type": "display_data"
    }
   ],
   "source": [
    "#execute multi-labeling tool\n",
    "from multi_label_pigeon import multi_label_annotate\n",
    "from IPython.display import display, Image\n",
    "\n",
    "sfh_annotations = multi_label_annotate(\n",
    "    os.listdir(),\n",
    "    options={'trees_behind_prop':['yes'],\n",
    "             'entire_prop': ['yes'],\n",
    "             'lawn':['yes'],\n",
    "             'front':['yes'],\n",
    "             'side':['yes'],\n",
    "             'back':['yes'],\n",
    "             'inside':['yes'],\n",
    "             'collage':['yes'],\n",
    "             'cars':['yes'],\n",
    "             'more_than1':['yes']},\n",
    "    display_fn=lambda filename: display(Image(filename))\n",
    "    )"
   ]
  },
  {
   "cell_type": "code",
   "execution_count": 4,
   "metadata": {},
   "outputs": [
    {
     "data": {
      "text/plain": [
       "{'genMid.VAFX1090508_3.jpg': {'trees_behind_prop': ['yes'],\n",
       "  'lawn': ['yes'],\n",
       "  'side': ['yes'],\n",
       "  'inside': ['yes']}}"
      ]
     },
     "execution_count": 4,
     "metadata": {},
     "output_type": "execute_result"
    }
   ],
   "source": [
    "#check th_image labels\n",
    "sfh_annotations"
   ]
  },
  {
   "cell_type": "code",
   "execution_count": 18,
   "metadata": {},
   "outputs": [
    {
     "name": "stdout",
     "output_type": "stream",
     "text": [
      "Collecting dill\n",
      "  Downloading dill-0.3.3-py2.py3-none-any.whl (81 kB)\n",
      "Installing collected packages: dill\n",
      "Successfully installed dill-0.3.3\n"
     ]
    }
   ],
   "source": [
    "#!pip install dill"
   ]
  },
  {
   "cell_type": "code",
   "execution_count": 19,
   "metadata": {},
   "outputs": [],
   "source": [
    "import dill\n",
    "dill.dump(sfh_annotations, open('sfh.pkd', 'wb'))"
   ]
  },
  {
   "cell_type": "code",
   "execution_count": null,
   "metadata": {},
   "outputs": [],
   "source": []
  },
  {
   "cell_type": "code",
   "execution_count": 72,
   "metadata": {},
   "outputs": [
    {
     "data": {
      "text/plain": [
       "'C:\\\\Users\\\\james'"
      ]
     },
     "execution_count": 72,
     "metadata": {},
     "output_type": "execute_result"
    }
   ],
   "source": [
    "os.chdir(\"../\")\n",
    "os.getcwd()"
   ]
  },
  {
   "cell_type": "code",
   "execution_count": 2,
   "metadata": {},
   "outputs": [],
   "source": [
    "os.chdir('condo_images')"
   ]
  },
  {
   "cell_type": "code",
   "execution_count": 3,
   "metadata": {},
   "outputs": [
    {
     "data": {
      "application/vnd.jupyter.widget-view+json": {
       "model_id": "247d50dfd2264c37af55d7012a35647a",
       "version_major": 2,
       "version_minor": 0
      },
      "text/plain": [
       "HTML(value='0 examples annotated, 112 examples left')"
      ]
     },
     "metadata": {},
     "output_type": "display_data"
    },
    {
     "name": "stdout",
     "output_type": "stream",
     "text": [
      "trees_behind_prop\n"
     ]
    },
    {
     "data": {
      "application/vnd.jupyter.widget-view+json": {
       "model_id": "c8283085fcc7445e99e466ce03b2dcb5",
       "version_major": 2,
       "version_minor": 0
      },
      "text/plain": [
       "HBox(children=(Button(description='yes', style=ButtonStyle()),))"
      ]
     },
     "metadata": {},
     "output_type": "display_data"
    },
    {
     "name": "stdout",
     "output_type": "stream",
     "text": [
      "view_blocked\n"
     ]
    },
    {
     "data": {
      "application/vnd.jupyter.widget-view+json": {
       "model_id": "fa6ca7feaedc4913b5f0b379db8d3f6b",
       "version_major": 2,
       "version_minor": 0
      },
      "text/plain": [
       "HBox(children=(Button(description='yes', style=ButtonStyle()),))"
      ]
     },
     "metadata": {},
     "output_type": "display_data"
    },
    {
     "name": "stdout",
     "output_type": "stream",
     "text": [
      "lawn\n"
     ]
    },
    {
     "data": {
      "application/vnd.jupyter.widget-view+json": {
       "model_id": "fb83e462eb284332846334d0b0f42ddb",
       "version_major": 2,
       "version_minor": 0
      },
      "text/plain": [
       "HBox(children=(Button(description='yes', style=ButtonStyle()),))"
      ]
     },
     "metadata": {},
     "output_type": "display_data"
    },
    {
     "name": "stdout",
     "output_type": "stream",
     "text": [
      "front\n"
     ]
    },
    {
     "data": {
      "application/vnd.jupyter.widget-view+json": {
       "model_id": "2a1c858dd1d544ceb16b657713eb7ac1",
       "version_major": 2,
       "version_minor": 0
      },
      "text/plain": [
       "HBox(children=(Button(description='yes', style=ButtonStyle()),))"
      ]
     },
     "metadata": {},
     "output_type": "display_data"
    },
    {
     "name": "stdout",
     "output_type": "stream",
     "text": [
      "side\n"
     ]
    },
    {
     "data": {
      "application/vnd.jupyter.widget-view+json": {
       "model_id": "649937f963fe4f8a8e07cfeafcd11dfa",
       "version_major": 2,
       "version_minor": 0
      },
      "text/plain": [
       "HBox(children=(Button(description='yes', style=ButtonStyle()),))"
      ]
     },
     "metadata": {},
     "output_type": "display_data"
    },
    {
     "name": "stdout",
     "output_type": "stream",
     "text": [
      "back\n"
     ]
    },
    {
     "data": {
      "application/vnd.jupyter.widget-view+json": {
       "model_id": "a7b380f2fce84d6a8a1decbef3d66614",
       "version_major": 2,
       "version_minor": 0
      },
      "text/plain": [
       "HBox(children=(Button(description='yes', style=ButtonStyle()),))"
      ]
     },
     "metadata": {},
     "output_type": "display_data"
    },
    {
     "name": "stdout",
     "output_type": "stream",
     "text": [
      "inside\n"
     ]
    },
    {
     "data": {
      "application/vnd.jupyter.widget-view+json": {
       "model_id": "23504699d7b2441b8addac8cbbcd4133",
       "version_major": 2,
       "version_minor": 0
      },
      "text/plain": [
       "HBox(children=(Button(description='yes', style=ButtonStyle()),))"
      ]
     },
     "metadata": {},
     "output_type": "display_data"
    },
    {
     "name": "stdout",
     "output_type": "stream",
     "text": [
      "collage\n"
     ]
    },
    {
     "data": {
      "application/vnd.jupyter.widget-view+json": {
       "model_id": "f0eb0d0592c24594947af2d32fb98cf5",
       "version_major": 2,
       "version_minor": 0
      },
      "text/plain": [
       "HBox(children=(Button(description='yes', style=ButtonStyle()),))"
      ]
     },
     "metadata": {},
     "output_type": "display_data"
    },
    {
     "name": "stdout",
     "output_type": "stream",
     "text": [
      "cars\n"
     ]
    },
    {
     "data": {
      "application/vnd.jupyter.widget-view+json": {
       "model_id": "bb6176fa4df34888ac50919d0d768573",
       "version_major": 2,
       "version_minor": 0
      },
      "text/plain": [
       "HBox(children=(Button(description='yes', style=ButtonStyle()),))"
      ]
     },
     "metadata": {},
     "output_type": "display_data"
    },
    {
     "name": "stdout",
     "output_type": "stream",
     "text": [
      "more_than1\n"
     ]
    },
    {
     "data": {
      "application/vnd.jupyter.widget-view+json": {
       "model_id": "fc1cd152828f4550a201fbc501ec4945",
       "version_major": 2,
       "version_minor": 0
      },
      "text/plain": [
       "HBox(children=(Button(description='yes', style=ButtonStyle()),))"
      ]
     },
     "metadata": {},
     "output_type": "display_data"
    },
    {
     "name": "stdout",
     "output_type": "stream",
     "text": [
      "\n"
     ]
    },
    {
     "data": {
      "application/vnd.jupyter.widget-view+json": {
       "model_id": "a0f90db579db4fabaa534074b8bc3e2e",
       "version_major": 2,
       "version_minor": 0
      },
      "text/plain": [
       "HBox(children=(Button(description='done', style=ButtonStyle()), Button(description='back', style=ButtonStyle()…"
      ]
     },
     "metadata": {},
     "output_type": "display_data"
    },
    {
     "data": {
      "application/vnd.jupyter.widget-view+json": {
       "model_id": "270b05353f3346eea34e3487963d2ceb",
       "version_major": 2,
       "version_minor": 0
      },
      "text/plain": [
       "Output()"
      ]
     },
     "metadata": {},
     "output_type": "display_data"
    },
    {
     "name": "stdout",
     "output_type": "stream",
     "text": [
      "Annotation done.\n"
     ]
    }
   ],
   "source": [
    "#execute multi-labeling tool\n",
    "from multi_label_pigeon import multi_label_annotate\n",
    "from IPython.display import display, Image\n",
    "\n",
    "condo_annotations = multi_label_annotate(\n",
    "    os.listdir(),\n",
    "    options={'trees_behind_prop':['yes'],\n",
    "             'view_blocked': ['yes'],\n",
    "             'lawn':['yes'],\n",
    "             'front':['yes'],\n",
    "             'side':['yes'],\n",
    "             'back':['yes'],\n",
    "             'inside':['yes'],\n",
    "             'collage':['yes'],\n",
    "             'cars':['yes'],\n",
    "             'more_than1':['yes']},\n",
    "    display_fn=lambda filename: display(Image(filename))\n",
    "    )"
   ]
  },
  {
   "cell_type": "code",
   "execution_count": 5,
   "metadata": {},
   "outputs": [
    {
     "data": {
      "text/plain": [
       "{'genMid.VAFX1105360_4.jpg': {'inside': ['yes']},\n",
       " 'genMid.VAFX1110162_2.jpg': {'view_blocked': ['yes'],\n",
       "  'front': ['yes'],\n",
       "  'more_than1': ['yes']},\n",
       " 'genMid.VAFX1110338_4.jpg': {'inside': ['yes']},\n",
       " 'genMid.VAFX1112182_3.jpg': {'view_blocked': ['yes'],\n",
       "  'front': ['yes'],\n",
       "  'more_than1': ['yes']},\n",
       " 'genMid.VAFX1122204_1.jpg': {'front': ['yes'], 'more_than1': ['yes']},\n",
       " 'genMid.VAFX1122586_4.jpg': {'trees_behind_prop': ['yes'],\n",
       "  'front': ['yes'],\n",
       "  'side': ['yes'],\n",
       "  'more_than1': ['yes']},\n",
       " 'genMid.VAFX1127944_1.jpg': {'trees_behind_prop': ['yes'],\n",
       "  'front': ['yes'],\n",
       "  'more_than1': ['yes']},\n",
       " 'genMid.VAFX1128194_4.jpg': {'view_blocked': ['yes'],\n",
       "  'front': ['yes'],\n",
       "  'more_than1': ['yes']},\n",
       " 'genMid.VAFX1128238_3.jpg': {'inside': ['yes']},\n",
       " 'genMid.VAFX1128712_1.jpg': {'inside': ['yes']},\n",
       " 'genMid.VAFX1130636_4.jpg': {'trees_behind_prop': ['yes'],\n",
       "  'front': ['yes'],\n",
       "  'cars': ['yes'],\n",
       "  'more_than1': ['yes']},\n",
       " 'genMid.VAFX1130762_1.jpg': {'inside': ['yes']},\n",
       " 'genMid.VAFX1130910_2.jpg': {'front': ['yes'],\n",
       "  'side': ['yes'],\n",
       "  'more_than1': ['yes'],\n",
       "  'cars': ['yes']},\n",
       " 'genMid.VAFX1132282_4.jpg': {'inside': ['yes']},\n",
       " 'genMid.VAFX1132534_1.jpg': {'trees_behind_prop': ['yes'],\n",
       "  'view_blocked': ['yes'],\n",
       "  'front': ['yes'],\n",
       "  'side': ['yes'],\n",
       "  'cars': ['yes'],\n",
       "  'more_than1': ['yes']},\n",
       " 'genMid.VAFX1132572_1.jpg': {'inside': ['yes']},\n",
       " 'genMid.VAFX1132660_4.jpg': {'inside': ['yes']},\n",
       " 'genMid.VAFX1132816_3.jpg': {'view_blocked': ['yes'],\n",
       "  'trees_behind_prop': ['yes'],\n",
       "  'front': ['yes'],\n",
       "  'side': ['yes'],\n",
       "  'more_than1': ['yes']},\n",
       " 'genMid.VAFX1133152_1.jpg': {'view_blocked': ['yes'], 'back': ['yes']},\n",
       " 'genMid.VAFX1133622_5.jpg': {'view_blocked': ['yes'],\n",
       "  'front': ['yes'],\n",
       "  'more_than1': ['yes']},\n",
       " 'genMid.VAFX1135988_1.jpg': {'view_blocked': ['yes'],\n",
       "  'front': ['yes'],\n",
       "  'cars': ['yes'],\n",
       "  'more_than1': ['yes']},\n",
       " 'genMid.VAFX1136130_4.jpg': {'trees_behind_prop': ['yes'],\n",
       "  'front': ['yes'],\n",
       "  'more_than1': ['yes']},\n",
       " 'genMid.VAFX1136316_2.jpg': {'trees_behind_prop': ['yes'],\n",
       "  'view_blocked': ['yes'],\n",
       "  'back': ['yes'],\n",
       "  'more_than1': ['yes']},\n",
       " 'genMid.VAFX1136728_1.jpg': {'trees_behind_prop': ['yes'],\n",
       "  'view_blocked': ['yes'],\n",
       "  'front': ['yes'],\n",
       "  'cars': ['yes'],\n",
       "  'more_than1': ['yes']},\n",
       " 'genMid.VAFX1137038_1.jpg': {'trees_behind_prop': ['yes'],\n",
       "  'front': ['yes'],\n",
       "  'cars': ['yes'],\n",
       "  'more_than1': ['yes']},\n",
       " 'genMid.VAFX1137168_1.jpg': {'front': ['yes'],\n",
       "  'cars': ['yes'],\n",
       "  'more_than1': ['yes']},\n",
       " 'genMid.VAFX1137496_1.jpg': {'inside': ['yes']},\n",
       " 'genMid.VAFX1137752_1.jpg': {'trees_behind_prop': ['yes'],\n",
       "  'view_blocked': ['yes'],\n",
       "  'front': ['yes'],\n",
       "  'lawn': ['yes'],\n",
       "  'more_than1': ['yes']},\n",
       " 'genMid.VAFX1138564_2.jpg': {'view_blocked': ['yes'],\n",
       "  'front': ['yes'],\n",
       "  'more_than1': ['yes']},\n",
       " 'genMid.VAFX1138716_2.jpg': {'front': ['yes'], 'more_than1': ['yes']},\n",
       " 'genMid.VAFX1138752_1.jpg': {'view_blocked': ['yes'],\n",
       "  'front': ['yes'],\n",
       "  'more_than1': ['yes'],\n",
       "  'cars': ['yes']},\n",
       " 'genMid.VAFX1138772_3.jpg': {'inside': ['yes']},\n",
       " 'genMid.VAFX1139072_1.jpg': {'view_blocked': ['yes'],\n",
       "  'front': ['yes'],\n",
       "  'cars': ['yes'],\n",
       "  'more_than1': ['yes']},\n",
       " 'genMid.VAFX1139230_1.jpg': {'view_blocked': ['yes'],\n",
       "  'trees_behind_prop': ['yes'],\n",
       "  'front': ['yes'],\n",
       "  'more_than1': ['yes']},\n",
       " 'genMid.VAFX1139294_1.jpg': {'view_blocked': ['yes'],\n",
       "  'front': ['yes'],\n",
       "  'more_than1': ['yes']},\n",
       " 'genMid.VAFX1139448_1.jpg': {'back': ['yes']},\n",
       " 'genMid.VAFX1139714_1.jpg': {'view_blocked': ['yes'],\n",
       "  'front': ['yes'],\n",
       "  'more_than1': ['yes']},\n",
       " 'genMid.VAFX1139768_4.jpg': {'view_blocked': ['yes'],\n",
       "  'front': ['yes'],\n",
       "  'more_than1': ['yes']},\n",
       " 'genMid.VAFX1139958_1.jpg': {'front': ['yes'], 'more_than1': ['yes']},\n",
       " 'genMid.VAFX1140020_1.jpg': {'inside': ['yes']},\n",
       " 'genMid.VAFX1140098_1.jpg': {'view_blocked': ['yes'],\n",
       "  'front': ['yes'],\n",
       "  'more_than1': ['yes']},\n",
       " 'genMid.VAFX1140178_4.jpg': {'collage': ['yes'],\n",
       "  'inside': ['yes'],\n",
       "  'front': ['yes'],\n",
       "  'more_than1': ['yes'],\n",
       "  'cars': ['yes']},\n",
       " 'genMid.VAFX1140254_1.jpg': {'view_blocked': ['yes'],\n",
       "  'front': ['yes'],\n",
       "  'more_than1': ['yes']},\n",
       " 'genMid.VAFX1140340_1.jpg': {'view_blocked': ['yes'],\n",
       "  'front': ['yes'],\n",
       "  'more_than1': ['yes']},\n",
       " 'genMid.VAFX1140418_2.jpg': {'view_blocked': ['yes'],\n",
       "  'more_than1': ['yes'],\n",
       "  'front': ['yes']},\n",
       " 'genMid.VAFX1140556_3.jpg': {'back': ['yes']},\n",
       " 'genMid.VAFX1140750_4.jpg': {'front': ['yes'], 'more_than1': ['yes']},\n",
       " 'genMid.VAFX1141174_2.jpg': {'front': ['yes'],\n",
       "  'view_blocked': ['yes'],\n",
       "  'more_than1': ['yes']},\n",
       " 'genMid.VAFX1141656_1.jpg': {'front': ['yes'],\n",
       "  'more_than1': ['yes'],\n",
       "  'cars': ['yes']},\n",
       " 'genMid.VAFX1141912_3.jpg': {'front': ['yes'],\n",
       "  'view_blocked': ['yes'],\n",
       "  'more_than1': ['yes']},\n",
       " 'genMid.VAFX1142150_2.jpg': {'view_blocked': ['yes'],\n",
       "  'front': ['yes'],\n",
       "  'cars': ['yes'],\n",
       "  'more_than1': ['yes']},\n",
       " 'genMid.VAFX1142268_2.jpg': {'front': ['yes'], 'more_than1': ['yes']},\n",
       " 'genMid.VAFX1142406_2.jpg': {'inside': ['yes']},\n",
       " 'genMid.VAFX1142412_3.jpg': {'collage': ['yes'],\n",
       "  'front': ['yes'],\n",
       "  'back': ['yes'],\n",
       "  'inside': ['yes']},\n",
       " 'genMid.VAFX1142478_2.jpg': {'view_blocked': ['yes'],\n",
       "  'front': ['yes'],\n",
       "  'more_than1': ['yes']},\n",
       " 'genMid.VAFX1142760_1.jpg': {'view_blocked': ['yes'],\n",
       "  'front': ['yes'],\n",
       "  'cars': ['yes'],\n",
       "  'more_than1': ['yes']},\n",
       " 'genMid.VAFX1142786_1.jpg': {'view_blocked': ['yes'],\n",
       "  'front': ['yes'],\n",
       "  'more_than1': ['yes']},\n",
       " 'genMid.VAFX1142846_3.jpg': {'view_blocked': ['yes'],\n",
       "  'front': ['yes'],\n",
       "  'more_than1': ['yes']},\n",
       " 'genMid.VAFX1143054_1.jpg': {'inside': ['yes']},\n",
       " 'genMid.VAFX1143314_3.jpg': {'inside': ['yes']},\n",
       " 'genMid.VAFX1143512_1.jpg': {'front': ['yes'], 'more_than1': ['yes']},\n",
       " 'genMid.VAFX1143704_1.jpg': {'view_blocked': ['yes'],\n",
       "  'front': ['yes'],\n",
       "  'more_than1': ['yes'],\n",
       "  'cars': ['yes']},\n",
       " 'genMid.VAFX1143790_2.jpg': {'view_blocked': ['yes'],\n",
       "  'front': ['yes'],\n",
       "  'more_than1': ['yes']},\n",
       " 'genMid.VAFX1144006_2.jpg': {'front': ['yes'], 'more_than1': ['yes']},\n",
       " 'genMid.VAFX1144328_3.jpg': {'inside': ['yes']},\n",
       " 'genMid.VAFX1144896_2.jpg': {'view_blocked': ['yes'],\n",
       "  'front': ['yes'],\n",
       "  'more_than1': ['yes']},\n",
       " 'genMid.VAFX1145208_2.jpg': {'trees_behind_prop': ['yes'],\n",
       "  'front': ['yes'],\n",
       "  'cars': ['yes'],\n",
       "  'more_than1': ['yes']},\n",
       " 'genMid.VAFX1146400_3.jpg': {'inside': ['yes']},\n",
       " 'genMid.VAFX1146518_2.jpg': {'view_blocked': ['yes'],\n",
       "  'lawn': ['yes'],\n",
       "  'front': ['yes'],\n",
       "  'more_than1': ['yes']},\n",
       " 'genMid.VAFX1146726_2.jpg': {'inside': ['yes']},\n",
       " 'genMid.VAFX1146806_0.jpg': {'front': ['yes'], 'more_than1': ['yes']},\n",
       " 'genMid.VAFX1147092_2.jpg': {'trees_behind_prop': ['yes'],\n",
       "  'view_blocked': ['yes'],\n",
       "  'front': ['yes'],\n",
       "  'cars': ['yes'],\n",
       "  'more_than1': ['yes']},\n",
       " 'genMid.VAFX1147196_2.jpg': {'inside': ['yes']},\n",
       " 'genMid.VAFX1147424_1.jpg': {'inside': ['yes']},\n",
       " 'genMid.VAFX1147484_1.jpg': {'view_blocked': ['yes'],\n",
       "  'lawn': ['yes'],\n",
       "  'front': ['yes'],\n",
       "  'more_than1': ['yes']},\n",
       " 'genMid.VAFX1147706_2.jpg': {'inside': ['yes']},\n",
       " 'genMid.VAFX1148306_1.jpg': {'front': ['yes'], 'more_than1': ['yes']},\n",
       " 'genMid.VAFX1148404_4.jpg': {'view_blocked': ['yes'],\n",
       "  'front': ['yes'],\n",
       "  'more_than1': ['yes']},\n",
       " 'genMid.VAFX1148418_4.jpg': {'trees_behind_prop': ['yes'],\n",
       "  'view_blocked': ['yes'],\n",
       "  'front': ['yes'],\n",
       "  'cars': ['yes'],\n",
       "  'more_than1': ['yes']},\n",
       " 'genMid.VAFX1148620_2.jpg': {'trees_behind_prop': ['yes'],\n",
       "  'front': ['yes'],\n",
       "  'cars': ['yes'],\n",
       "  'more_than1': ['yes']},\n",
       " 'genMid.VAFX1149040_4.jpg': {'view_blocked': ['yes'],\n",
       "  'front': ['yes'],\n",
       "  'more_than1': ['yes']},\n",
       " 'genMid.VAFX1149162_1.jpg': {'view_blocked': ['yes'],\n",
       "  'front': ['yes'],\n",
       "  'cars': ['yes'],\n",
       "  'more_than1': ['yes']},\n",
       " 'genMid.VAFX1149332_4.jpg': {'view_blocked': ['yes'],\n",
       "  'front': ['yes'],\n",
       "  'cars': ['yes'],\n",
       "  'more_than1': ['yes']},\n",
       " 'genMid.VAFX1149746_1.jpg': {'front': ['yes'],\n",
       "  'cars': ['yes'],\n",
       "  'more_than1': ['yes']},\n",
       " 'genMid.VAFX1149920_2.jpg': {'trees_behind_prop': ['yes'],\n",
       "  'front': ['yes'],\n",
       "  'more_than1': ['yes']},\n",
       " 'genMid.VAFX1150322_3.jpg': {'front': ['yes'], 'more_than1': ['yes']},\n",
       " 'genMid.VAFX1150368_1.jpg': {'view_blocked': ['yes'],\n",
       "  'front': ['yes'],\n",
       "  'more_than1': ['yes']},\n",
       " 'genMid.VAFX1150568_2.jpg': {'view_blocked': ['yes'],\n",
       "  'front': ['yes'],\n",
       "  'more_than1': ['yes']},\n",
       " 'genMid.VAFX1151164_1.jpg': {'back': ['yes']},\n",
       " 'genMid.VAFX1151460_1.jpg': {'back': ['yes']},\n",
       " 'genMid.VAFX1151478_1.jpg': {'inside': ['yes']},\n",
       " 'genMid.VAFX1151564_2.jpg': {'inside': ['yes']},\n",
       " 'genMid.VAFX1151636_1.jpg': {'front': ['yes'],\n",
       "  'cars': ['yes'],\n",
       "  'more_than1': ['yes']},\n",
       " 'genMid.VAFX1151964_3.jpg': {'inside': ['yes']},\n",
       " 'genMid.VAFX1152460_A.jpg': {'inside': ['yes']},\n",
       " 'genMid.VAFX1153748_4.jpg': {'front': ['yes'],\n",
       "  'view_blocked': ['yes'],\n",
       "  'more_than1': ['yes'],\n",
       "  'cars': ['yes']},\n",
       " 'genMid.VAFX1154488_2.jpg': {'inside': ['yes']},\n",
       " 'genMid.VAFX1154614_2.jpg': {'trees_behind_prop': ['yes'],\n",
       "  'view_blocked': ['yes'],\n",
       "  'front': ['yes'],\n",
       "  'cars': ['yes'],\n",
       "  'more_than1': ['yes']},\n",
       " 'genMid.VAFX1154646_1.jpg': {'trees_behind_prop': ['yes'],\n",
       "  'view_blocked': ['yes'],\n",
       "  'front': ['yes'],\n",
       "  'more_than1': ['yes']},\n",
       " 'genMid.VAFX1154894_4.jpg': {'front': ['yes'], 'more_than1': ['yes']},\n",
       " 'genMid.VAFX1155156_3.jpg': {'inside': ['yes']},\n",
       " 'genMid.VAFX1155198_1.jpg': {'front': ['yes'], 'more_than1': ['yes']},\n",
       " 'genMid.VAFX1155450_1.jpg': {'trees_behind_prop': ['yes'],\n",
       "  'front': ['yes'],\n",
       "  'cars': ['yes'],\n",
       "  'more_than1': ['yes']},\n",
       " 'genMid.VAFX1155512_1.jpg': {'inside': ['yes']},\n",
       " 'genMid.VAFX1156058_1.jpg': {'view_blocked': ['yes'],\n",
       "  'front': ['yes'],\n",
       "  'more_than1': ['yes']},\n",
       " 'genMid.VAFX1156566_2.jpg': {'front': ['yes'], 'more_than1': ['yes']},\n",
       " 'genMid.VAFX1157224_1.jpg': {'view_blocked': ['yes'],\n",
       "  'front': ['yes'],\n",
       "  'more_than1': ['yes']},\n",
       " 'genMid.VAFX1157516_1.jpg': {'inside': ['yes']},\n",
       " 'genMid.VAFX1158166_3.jpg': {'view_blocked': ['yes'],\n",
       "  'front': ['yes'],\n",
       "  'more_than1': ['yes']},\n",
       " 'genMid.VAFX1160668_3.jpg': {'trees_behind_prop': ['yes'],\n",
       "  'front': ['yes'],\n",
       "  'more_than1': ['yes']}}"
      ]
     },
     "execution_count": 5,
     "metadata": {},
     "output_type": "execute_result"
    }
   ],
   "source": [
    "#check th_image labels\n",
    "condo_annotations"
   ]
  },
  {
   "cell_type": "code",
   "execution_count": 6,
   "metadata": {},
   "outputs": [],
   "source": [
    "dill.dump(condo_annotations, open('condo.pkd', 'wb'))"
   ]
  },
  {
   "cell_type": "code",
   "execution_count": null,
   "metadata": {},
   "outputs": [],
   "source": []
  },
  {
   "cell_type": "code",
   "execution_count": 36,
   "metadata": {},
   "outputs": [
    {
     "data": {
      "text/plain": [
       "'C:\\\\Users\\\\james\\\\TDI_Capstone'"
      ]
     },
     "execution_count": 36,
     "metadata": {},
     "output_type": "execute_result"
    }
   ],
   "source": [
    "os.chdir(\"../\")\n",
    "os.getcwd()"
   ]
  },
  {
   "cell_type": "code",
   "execution_count": 8,
   "metadata": {},
   "outputs": [],
   "source": [
    "os.chdir(\"th_images\")"
   ]
  },
  {
   "cell_type": "code",
   "execution_count": 18,
   "metadata": {},
   "outputs": [
    {
     "data": {
      "application/vnd.jupyter.widget-view+json": {
       "model_id": "0296d0a55a144dcd96c9d8fffbd1fb79",
       "version_major": 2,
       "version_minor": 0
      },
      "text/plain": [
       "HTML(value='0 examples annotated, 126 examples left')"
      ]
     },
     "metadata": {},
     "output_type": "display_data"
    },
    {
     "name": "stdout",
     "output_type": "stream",
     "text": [
      "trees_behind_prop\n"
     ]
    },
    {
     "data": {
      "application/vnd.jupyter.widget-view+json": {
       "model_id": "dce782787c54424fa07f5c292491d05c",
       "version_major": 2,
       "version_minor": 0
      },
      "text/plain": [
       "HBox(children=(Button(description='yes', style=ButtonStyle()),))"
      ]
     },
     "metadata": {},
     "output_type": "display_data"
    },
    {
     "name": "stdout",
     "output_type": "stream",
     "text": [
      "entire_prop\n"
     ]
    },
    {
     "data": {
      "application/vnd.jupyter.widget-view+json": {
       "model_id": "75ac33bb3a6342b19e297b1273cfb598",
       "version_major": 2,
       "version_minor": 0
      },
      "text/plain": [
       "HBox(children=(Button(description='yes', style=ButtonStyle()),))"
      ]
     },
     "metadata": {},
     "output_type": "display_data"
    },
    {
     "name": "stdout",
     "output_type": "stream",
     "text": [
      "lawn\n"
     ]
    },
    {
     "data": {
      "application/vnd.jupyter.widget-view+json": {
       "model_id": "541f1c7f64944445956443c146550352",
       "version_major": 2,
       "version_minor": 0
      },
      "text/plain": [
       "HBox(children=(Button(description='yes', style=ButtonStyle()),))"
      ]
     },
     "metadata": {},
     "output_type": "display_data"
    },
    {
     "name": "stdout",
     "output_type": "stream",
     "text": [
      "front\n"
     ]
    },
    {
     "data": {
      "application/vnd.jupyter.widget-view+json": {
       "model_id": "2f6a90387a48456788e9e910cea07809",
       "version_major": 2,
       "version_minor": 0
      },
      "text/plain": [
       "HBox(children=(Button(description='yes', style=ButtonStyle()),))"
      ]
     },
     "metadata": {},
     "output_type": "display_data"
    },
    {
     "name": "stdout",
     "output_type": "stream",
     "text": [
      "side\n"
     ]
    },
    {
     "data": {
      "application/vnd.jupyter.widget-view+json": {
       "model_id": "a6f9e966516a4856befd08c079b85019",
       "version_major": 2,
       "version_minor": 0
      },
      "text/plain": [
       "HBox(children=(Button(description='yes', style=ButtonStyle()),))"
      ]
     },
     "metadata": {},
     "output_type": "display_data"
    },
    {
     "name": "stdout",
     "output_type": "stream",
     "text": [
      "back\n"
     ]
    },
    {
     "data": {
      "application/vnd.jupyter.widget-view+json": {
       "model_id": "b1828817b43448c2883b4be1121145ea",
       "version_major": 2,
       "version_minor": 0
      },
      "text/plain": [
       "HBox(children=(Button(description='yes', style=ButtonStyle()),))"
      ]
     },
     "metadata": {},
     "output_type": "display_data"
    },
    {
     "name": "stdout",
     "output_type": "stream",
     "text": [
      "inside\n"
     ]
    },
    {
     "data": {
      "application/vnd.jupyter.widget-view+json": {
       "model_id": "0e6224286cb349e08927f488423e7b17",
       "version_major": 2,
       "version_minor": 0
      },
      "text/plain": [
       "HBox(children=(Button(description='yes', style=ButtonStyle()),))"
      ]
     },
     "metadata": {},
     "output_type": "display_data"
    },
    {
     "name": "stdout",
     "output_type": "stream",
     "text": [
      "collage\n"
     ]
    },
    {
     "data": {
      "application/vnd.jupyter.widget-view+json": {
       "model_id": "33831df88d8d4f59bf750e0caaf278e5",
       "version_major": 2,
       "version_minor": 0
      },
      "text/plain": [
       "HBox(children=(Button(description='yes', style=ButtonStyle()),))"
      ]
     },
     "metadata": {},
     "output_type": "display_data"
    },
    {
     "name": "stdout",
     "output_type": "stream",
     "text": [
      "cars\n"
     ]
    },
    {
     "data": {
      "application/vnd.jupyter.widget-view+json": {
       "model_id": "2f462bacd70848e0bfd51e7b0d97afdc",
       "version_major": 2,
       "version_minor": 0
      },
      "text/plain": [
       "HBox(children=(Button(description='yes', style=ButtonStyle()),))"
      ]
     },
     "metadata": {},
     "output_type": "display_data"
    },
    {
     "name": "stdout",
     "output_type": "stream",
     "text": [
      "more_than1\n"
     ]
    },
    {
     "data": {
      "application/vnd.jupyter.widget-view+json": {
       "model_id": "53efc06e369a4a5b94c15d82b8431a0c",
       "version_major": 2,
       "version_minor": 0
      },
      "text/plain": [
       "HBox(children=(Button(description='yes', style=ButtonStyle()),))"
      ]
     },
     "metadata": {},
     "output_type": "display_data"
    },
    {
     "name": "stdout",
     "output_type": "stream",
     "text": [
      "\n"
     ]
    },
    {
     "data": {
      "application/vnd.jupyter.widget-view+json": {
       "model_id": "a61baba30fb34c2299de29eaa8b63519",
       "version_major": 2,
       "version_minor": 0
      },
      "text/plain": [
       "HBox(children=(Button(description='done', style=ButtonStyle()), Button(description='back', style=ButtonStyle()…"
      ]
     },
     "metadata": {},
     "output_type": "display_data"
    },
    {
     "data": {
      "application/vnd.jupyter.widget-view+json": {
       "model_id": "8b6353157e4a49c9bae821ae7671dd21",
       "version_major": 2,
       "version_minor": 0
      },
      "text/plain": [
       "Output()"
      ]
     },
     "metadata": {},
     "output_type": "display_data"
    },
    {
     "name": "stdout",
     "output_type": "stream",
     "text": [
      "Annotation done.\n"
     ]
    }
   ],
   "source": [
    "#execute multi-labeling tool\n",
    "from multi_label_pigeon import multi_label_annotate\n",
    "from IPython.display import display, Image\n",
    "\n",
    "th_annotations = multi_label_annotate(\n",
    "    os.listdir(),\n",
    "    options={'trees_behind_prop':['yes'],\n",
    "             'entire_prop': ['yes'],\n",
    "             'lawn':['yes'],\n",
    "             'front':['yes'],\n",
    "             'side':['yes'],\n",
    "             'back':['yes'],\n",
    "             'inside':['yes'],\n",
    "             'collage':['yes'],\n",
    "             'cars':['yes'],\n",
    "             'more_than1':['yes']},\n",
    "    display_fn=lambda filename: display(Image(filename))\n",
    "    )"
   ]
  },
  {
   "cell_type": "code",
   "execution_count": 21,
   "metadata": {},
   "outputs": [
    {
     "data": {
      "text/plain": [
       "{'genMid.VAFX1116030_1.jpg': {'trees_behind_prop': ['yes'],\n",
       "  'front': ['yes'],\n",
       "  'more_than1': ['yes']},\n",
       " 'genMid.VAFX1116434_1.jpg': {'trees_behind_prop': ['yes'],\n",
       "  'entire_prop': ['yes'],\n",
       "  'lawn': ['yes'],\n",
       "  'front': ['yes'],\n",
       "  'more_than1': ['yes']},\n",
       " 'genMid.VAFX1116506_1.jpg': {'trees_behind_prop': ['yes'],\n",
       "  'entire_prop': ['yes'],\n",
       "  'lawn': ['yes'],\n",
       "  'front': ['yes'],\n",
       "  'more_than1': ['yes']},\n",
       " 'genMid.VAFX1117490_2.jpg': {'front': ['yes']},\n",
       " 'genMid.VAFX1124338_2.jpg': {'front': ['yes'], 'more_than1': ['yes']},\n",
       " 'genMid.VAFX1124518_5.jpg': {'trees_behind_prop': ['yes'],\n",
       "  'entire_prop': ['yes'],\n",
       "  'lawn': ['yes'],\n",
       "  'front': ['yes'],\n",
       "  'side': ['yes'],\n",
       "  'more_than1': ['yes']},\n",
       " 'genMid.VAFX1124956_1.jpg': {'trees_behind_prop': ['yes'],\n",
       "  'front': ['yes'],\n",
       "  'more_than1': ['yes']},\n",
       " 'genMid.VAFX1126896_3.jpg': {'entire_prop': ['yes'],\n",
       "  'front': ['yes'],\n",
       "  'cars': ['yes'],\n",
       "  'more_than1': ['yes']},\n",
       " 'genMid.VAFX1127230_5.jpg': {'trees_behind_prop': ['yes'],\n",
       "  'entire_prop': ['yes'],\n",
       "  'front': ['yes']},\n",
       " 'genMid.VAFX1129702_5.jpg': {'trees_behind_prop': ['yes'],\n",
       "  'entire_prop': ['yes'],\n",
       "  'lawn': ['yes'],\n",
       "  'front': ['yes'],\n",
       "  'more_than1': ['yes']},\n",
       " 'genMid.VAFX1130628_4.jpg': {'front': ['yes'], 'more_than1': ['yes']},\n",
       " 'genMid.VAFX1131788_3.jpg': {'front': ['yes'], 'more_than1': ['yes']},\n",
       " 'genMid.VAFX1132856_1.jpg': {'trees_behind_prop': ['yes'],\n",
       "  'entire_prop': ['yes'],\n",
       "  'lawn': ['yes'],\n",
       "  'front': ['yes'],\n",
       "  'more_than1': ['yes']},\n",
       " 'genMid.VAFX1134940_1.jpg': {'trees_behind_prop': ['yes'],\n",
       "  'entire_prop': ['yes'],\n",
       "  'front': ['yes'],\n",
       "  'more_than1': ['yes']},\n",
       " 'genMid.VAFX1135272_3.jpg': {'front': ['yes']},\n",
       " 'genMid.VAFX1135568_1.jpg': {'front': ['yes']},\n",
       " 'genMid.VAFX1136080_2.jpg': {'front': ['yes']},\n",
       " 'genMid.VAFX1136318_2.jpg': {'trees_behind_prop': ['yes'],\n",
       "  'entire_prop': ['yes'],\n",
       "  'front': ['yes']},\n",
       " 'genMid.VAFX1136986_4.jpg': {'trees_behind_prop': ['yes'],\n",
       "  'entire_prop': ['yes'],\n",
       "  'lawn': ['yes'],\n",
       "  'front': ['yes'],\n",
       "  'more_than1': ['yes']},\n",
       " 'genMid.VAFX1136994_2.jpg': {'front': ['yes'], 'lawn': ['yes']},\n",
       " 'genMid.VAFX1137648_3.jpg': {'front': ['yes']},\n",
       " 'genMid.VAFX1137650_1.jpg': {'entire_prop': ['yes'], 'front': ['yes']},\n",
       " 'genMid.VAFX1137902_1.jpg': {'trees_behind_prop': ['yes'],\n",
       "  'entire_prop': ['yes'],\n",
       "  'lawn': ['yes'],\n",
       "  'front': ['yes'],\n",
       "  'more_than1': ['yes']},\n",
       " 'genMid.VAFX1138250_1.jpg': {'trees_behind_prop': ['yes'],\n",
       "  'entire_prop': ['yes'],\n",
       "  'front': ['yes'],\n",
       "  'inside': ['yes'],\n",
       "  'collage': ['yes'],\n",
       "  'more_than1': ['yes']},\n",
       " 'genMid.VAFX1138520_1.jpg': {'trees_behind_prop': ['yes'],\n",
       "  'entire_prop': ['yes'],\n",
       "  'front': ['yes'],\n",
       "  'more_than1': ['yes']},\n",
       " 'genMid.VAFX1138714_1.jpg': {'back': ['yes']},\n",
       " 'genMid.VAFX1138728_4.jpg': {'trees_behind_prop': ['yes'],\n",
       "  'entire_prop': ['yes'],\n",
       "  'lawn': ['yes'],\n",
       "  'front': ['yes']},\n",
       " 'genMid.VAFX1138886_1.jpg': {'inside': ['yes']},\n",
       " 'genMid.VAFX1139118_1.jpg': {'trees_behind_prop': ['yes'],\n",
       "  'entire_prop': ['yes'],\n",
       "  'front': ['yes']},\n",
       " 'genMid.VAFX1139576_1.jpg': {'entire_prop': ['yes'],\n",
       "  'front': ['yes'],\n",
       "  'more_than1': ['yes']},\n",
       " 'genMid.VAFX1139908_2.jpg': {'trees_behind_prop': ['yes'],\n",
       "  'entire_prop': ['yes'],\n",
       "  'lawn': ['yes'],\n",
       "  'front': ['yes']},\n",
       " 'genMid.VAFX1139926_1.jpg': {'lawn': ['yes'],\n",
       "  'front': ['yes'],\n",
       "  'more_than1': ['yes']},\n",
       " 'genMid.VAFX1139972_1.jpg': {'trees_behind_prop': ['yes'],\n",
       "  'entire_prop': ['yes'],\n",
       "  'front': ['yes'],\n",
       "  'more_than1': ['yes']},\n",
       " 'genMid.VAFX1139984_3.jpg': {'lawn': ['yes'], 'front': ['yes']},\n",
       " 'genMid.VAFX1140110_1.jpg': {'trees_behind_prop': ['yes'],\n",
       "  'lawn': ['yes'],\n",
       "  'front': ['yes']},\n",
       " 'genMid.VAFX1140664_1.jpg': {'lawn': ['yes'], 'front': ['yes']},\n",
       " 'genMid.VAFX1140672_1.jpg': {'trees_behind_prop': ['yes'],\n",
       "  'entire_prop': ['yes'],\n",
       "  'front': ['yes'],\n",
       "  'more_than1': ['yes']},\n",
       " 'genMid.VAFX1140832_2.jpg': {'trees_behind_prop': ['yes'],\n",
       "  'entire_prop': ['yes'],\n",
       "  'lawn': ['yes'],\n",
       "  'front': ['yes'],\n",
       "  'side': ['yes']},\n",
       " 'genMid.VAFX1140838_1.jpg': {'trees_behind_prop': ['yes'],\n",
       "  'front': ['yes'],\n",
       "  'cars': ['yes']},\n",
       " 'genMid.VAFX1140848_3.jpg': {'trees_behind_prop': ['yes'],\n",
       "  'entire_prop': ['yes'],\n",
       "  'lawn': ['yes'],\n",
       "  'front': ['yes'],\n",
       "  'more_than1': ['yes']},\n",
       " 'genMid.VAFX1141294_2.jpg': {'front': ['yes'], 'more_than1': ['yes']},\n",
       " 'genMid.VAFX1141348_1.jpg': {'trees_behind_prop': ['yes'],\n",
       "  'entire_prop': ['yes'],\n",
       "  'lawn': ['yes'],\n",
       "  'front': ['yes'],\n",
       "  'side': ['yes'],\n",
       "  'more_than1': ['yes']},\n",
       " 'genMid.VAFX1141384_3.jpg': {'trees_behind_prop': ['yes'],\n",
       "  'entire_prop': ['yes'],\n",
       "  'lawn': ['yes'],\n",
       "  'front': ['yes']},\n",
       " 'genMid.VAFX1141400_1.jpg': {'trees_behind_prop': ['yes'],\n",
       "  'lawn': ['yes'],\n",
       "  'front': ['yes'],\n",
       "  'more_than1': ['yes'],\n",
       "  'side': ['yes']},\n",
       " 'genMid.VAFX1141694_2.jpg': {'trees_behind_prop': ['yes'],\n",
       "  'entire_prop': ['yes'],\n",
       "  'front': ['yes'],\n",
       "  'more_than1': ['yes']},\n",
       " 'genMid.VAFX1141878_3.jpg': {'trees_behind_prop': ['yes'],\n",
       "  'entire_prop': ['yes'],\n",
       "  'front': ['yes']},\n",
       " 'genMid.VAFX1142232_1.jpg': {'front': ['yes'], 'more_than1': ['yes']},\n",
       " 'genMid.VAFX1142656_1.jpg': {'back': ['yes']},\n",
       " 'genMid.VAFX1142794_1.jpg': {'lawn': ['yes'],\n",
       "  'front': ['yes'],\n",
       "  'more_than1': ['yes']},\n",
       " 'genMid.VAFX1143392_1.jpg': {'trees_behind_prop': ['yes'], 'front': ['yes']},\n",
       " 'genMid.VAFX1143420_1.jpg': {'front': ['yes']},\n",
       " 'genMid.VAFX1143672_1.jpg': {'trees_behind_prop': ['yes'],\n",
       "  'entire_prop': ['yes'],\n",
       "  'lawn': ['yes'],\n",
       "  'front': ['yes']},\n",
       " 'genMid.VAFX1143682_3.jpg': {'entire_prop': ['yes'],\n",
       "  'lawn': ['yes'],\n",
       "  'front': ['yes']},\n",
       " 'genMid.VAFX1143792_1.jpg': {'trees_behind_prop': ['yes'],\n",
       "  'entire_prop': ['yes'],\n",
       "  'front': ['yes'],\n",
       "  'more_than1': ['yes']},\n",
       " 'genMid.VAFX1143834_4.jpg': {'entire_prop': ['yes'],\n",
       "  'lawn': ['yes'],\n",
       "  'front': ['yes']},\n",
       " 'genMid.VAFX1144008_1.jpg': {'lawn': ['yes'],\n",
       "  'front': ['yes'],\n",
       "  'more_than1': ['yes']},\n",
       " 'genMid.VAFX1144084_1.jpg': {'trees_behind_prop': ['yes'],\n",
       "  'entire_prop': ['yes'],\n",
       "  'lawn': ['yes'],\n",
       "  'front': ['yes'],\n",
       "  'side': ['yes'],\n",
       "  'more_than1': ['yes'],\n",
       "  'cars': ['yes']},\n",
       " 'genMid.VAFX1144292_2.jpg': {'lawn': ['yes'],\n",
       "  'front': ['yes'],\n",
       "  'more_than1': ['yes']},\n",
       " 'genMid.VAFX1144372_1.jpg': {'entire_prop': ['yes'],\n",
       "  'lawn': ['yes'],\n",
       "  'front': ['yes'],\n",
       "  'more_than1': ['yes']},\n",
       " 'genMid.VAFX1144468_4.jpg': {'trees_behind_prop': ['yes'],\n",
       "  'entire_prop': ['yes'],\n",
       "  'front': ['yes']},\n",
       " 'genMid.VAFX1144528_4.jpg': {'trees_behind_prop': ['yes'],\n",
       "  'entire_prop': ['yes'],\n",
       "  'front': ['yes'],\n",
       "  'more_than1': ['yes']},\n",
       " 'genMid.VAFX1144558_1.jpg': {'front': ['yes'], 'more_than1': ['yes']},\n",
       " 'genMid.VAFX1145114_2.jpg': {'trees_behind_prop': ['yes'],\n",
       "  'lawn': ['yes'],\n",
       "  'front': ['yes'],\n",
       "  'more_than1': ['yes']},\n",
       " 'genMid.VAFX1145188_4.jpg': {'trees_behind_prop': ['yes'],\n",
       "  'entire_prop': ['yes'],\n",
       "  'front': ['yes'],\n",
       "  'more_than1': ['yes']},\n",
       " 'genMid.VAFX1145490_1.jpg': {'trees_behind_prop': ['yes'],\n",
       "  'front': ['yes'],\n",
       "  'side': ['yes']},\n",
       " 'genMid.VAFX1145612_3.jpg': {'trees_behind_prop': ['yes'], 'front': ['yes']},\n",
       " 'genMid.VAFX1145890_1.jpg': {'trees_behind_prop': ['yes'],\n",
       "  'entire_prop': ['yes'],\n",
       "  'lawn': ['yes'],\n",
       "  'front': ['yes'],\n",
       "  'more_than1': ['yes']},\n",
       " 'genMid.VAFX1145908_3.jpg': {'front': ['yes'], 'more_than1': ['yes']},\n",
       " 'genMid.VAFX1145922_0.jpg': {'trees_behind_prop': ['yes'],\n",
       "  'entire_prop': ['yes'],\n",
       "  'front': ['yes']},\n",
       " 'genMid.VAFX1145966_1.jpg': {'trees_behind_prop': ['yes'],\n",
       "  'entire_prop': ['yes'],\n",
       "  'front': ['yes'],\n",
       "  'side': ['yes'],\n",
       "  'more_than1': ['yes']},\n",
       " 'genMid.VAFX1145990_5.jpg': {'trees_behind_prop': ['yes'],\n",
       "  'entire_prop': ['yes'],\n",
       "  'front': ['yes'],\n",
       "  'more_than1': ['yes']},\n",
       " 'genMid.VAFX1147230_1.jpg': {'front': ['yes'], 'more_than1': ['yes']},\n",
       " 'genMid.VAFX1147422_1.jpg': {'trees_behind_prop': ['yes'],\n",
       "  'entire_prop': ['yes'],\n",
       "  'front': ['yes'],\n",
       "  'more_than1': ['yes']},\n",
       " 'genMid.VAFX1147520_1.jpg': {'front': ['yes'], 'more_than1': ['yes']},\n",
       " 'genMid.VAFX1147548_1.jpg': {'trees_behind_prop': ['yes'],\n",
       "  'lawn': ['yes'],\n",
       "  'front': ['yes'],\n",
       "  'more_than1': ['yes']},\n",
       " 'genMid.VAFX1147644_2.jpg': {'entire_prop': ['yes'],\n",
       "  'front': ['yes'],\n",
       "  'more_than1': ['yes'],\n",
       "  'cars': ['yes']},\n",
       " 'genMid.VAFX1148026_7.jpg': {'front': ['yes']},\n",
       " 'genMid.VAFX1148120_2.jpg': {'front': ['yes'], 'trees_behind_prop': ['yes']},\n",
       " 'genMid.VAFX1148204_3.jpg': {'lawn': ['yes'],\n",
       "  'front': ['yes'],\n",
       "  'more_than1': ['yes']},\n",
       " 'genMid.VAFX1148512_2.jpg': {'trees_behind_prop': ['yes'],\n",
       "  'entire_prop': ['yes'],\n",
       "  'lawn': ['yes'],\n",
       "  'front': ['yes'],\n",
       "  'side': ['yes'],\n",
       "  'more_than1': ['yes']},\n",
       " 'genMid.VAFX1149428_1.jpg': {'entire_prop': ['yes'], 'front': ['yes']},\n",
       " 'genMid.VAFX1149896_1.jpg': {'entire_prop': ['yes'],\n",
       "  'front': ['yes'],\n",
       "  'more_than1': ['yes']},\n",
       " 'genMid.VAFX1149928_4.jpg': {'trees_behind_prop': ['yes'],\n",
       "  'entire_prop': ['yes'],\n",
       "  'lawn': ['yes'],\n",
       "  'front': ['yes'],\n",
       "  'more_than1': ['yes']},\n",
       " 'genMid.VAFX1150310_1.jpg': {'trees_behind_prop': ['yes'],\n",
       "  'lawn': ['yes'],\n",
       "  'front': ['yes'],\n",
       "  'side': ['yes'],\n",
       "  'more_than1': ['yes']},\n",
       " 'genMid.VAFX1150348_2.jpg': {'front': ['yes']},\n",
       " 'genMid.VAFX1150530_1.jpg': {'front': ['yes'], 'more_than1': ['yes']},\n",
       " 'genMid.VAFX1150596_2.jpg': {'trees_behind_prop': ['yes'],\n",
       "  'entire_prop': ['yes'],\n",
       "  'front': ['yes']},\n",
       " 'genMid.VAFX1150698_3.jpg': {'inside': ['yes']},\n",
       " 'genMid.VAFX1150806_1.jpg': {'inside': ['yes']},\n",
       " 'genMid.VAFX1150840_3.jpg': {'trees_behind_prop': ['yes'],\n",
       "  'entire_prop': ['yes'],\n",
       "  'lawn': ['yes'],\n",
       "  'front': ['yes'],\n",
       "  'more_than1': ['yes']},\n",
       " 'genMid.VAFX1150900_1.jpg': {'trees_behind_prop': ['yes'],\n",
       "  'entire_prop': ['yes'],\n",
       "  'front': ['yes'],\n",
       "  'more_than1': ['yes']},\n",
       " 'genMid.VAFX1150994_1.jpg': {'entire_prop': ['yes'],\n",
       "  'lawn': ['yes'],\n",
       "  'front': ['yes'],\n",
       "  'more_than1': ['yes']},\n",
       " 'genMid.VAFX1151146_2.jpg': {'trees_behind_prop': ['yes'],\n",
       "  'entire_prop': ['yes'],\n",
       "  'lawn': ['yes'],\n",
       "  'front': ['yes'],\n",
       "  'more_than1': ['yes']},\n",
       " 'genMid.VAFX1151288_3.jpg': {'trees_behind_prop': ['yes'],\n",
       "  'front': ['yes'],\n",
       "  'more_than1': ['yes']},\n",
       " 'genMid.VAFX1151322_1.jpg': {'trees_behind_prop': ['yes'],\n",
       "  'entire_prop': ['yes'],\n",
       "  'lawn': ['yes'],\n",
       "  'front': ['yes']},\n",
       " 'genMid.VAFX1151462_2.jpg': {'trees_behind_prop': ['yes'], 'side': ['yes']},\n",
       " 'genMid.VAFX1151692_1.jpg': {'trees_behind_prop': ['yes'],\n",
       "  'lawn': ['yes'],\n",
       "  'front': ['yes'],\n",
       "  'more_than1': ['yes']},\n",
       " 'genMid.VAFX1151918_1.jpg': {'trees_behind_prop': ['yes'],\n",
       "  'lawn': ['yes'],\n",
       "  'front': ['yes']},\n",
       " 'genMid.VAFX1152298_2.jpg': {'trees_behind_prop': ['yes'],\n",
       "  'entire_prop': ['yes'],\n",
       "  'lawn': ['yes'],\n",
       "  'front': ['yes']},\n",
       " 'genMid.VAFX1152506_2.jpg': {'trees_behind_prop': ['yes'],\n",
       "  'lawn': ['yes'],\n",
       "  'front': ['yes'],\n",
       "  'more_than1': ['yes']},\n",
       " 'genMid.VAFX1152554_2.jpg': {'entire_prop': ['yes'],\n",
       "  'front': ['yes'],\n",
       "  'back': ['yes'],\n",
       "  'inside': ['yes'],\n",
       "  'collage': ['yes']},\n",
       " 'genMid.VAFX1152704_2.jpg': {'trees_behind_prop': ['yes'],\n",
       "  'front': ['yes'],\n",
       "  'more_than1': ['yes']},\n",
       " 'genMid.VAFX1153052_2.jpg': {'trees_behind_prop': ['yes'],\n",
       "  'front': ['yes'],\n",
       "  'more_than1': ['yes']},\n",
       " 'genMid.VAFX1153896_1.jpg': {'trees_behind_prop': ['yes'],\n",
       "  'entire_prop': ['yes'],\n",
       "  'lawn': ['yes'],\n",
       "  'front': ['yes'],\n",
       "  'more_than1': ['yes']},\n",
       " 'genMid.VAFX1154106_1.jpg': {'front': ['yes'], 'more_than1': ['yes']},\n",
       " 'genMid.VAFX1154186_3.jpg': {'lawn': ['yes'],\n",
       "  'front': ['yes'],\n",
       "  'more_than1': ['yes']},\n",
       " 'genMid.VAFX1154298_1.jpg': {'trees_behind_prop': ['yes'],\n",
       "  'entire_prop': ['yes'],\n",
       "  'lawn': ['yes'],\n",
       "  'front': ['yes'],\n",
       "  'more_than1': ['yes']},\n",
       " 'genMid.VAFX1154442_2.jpg': {'trees_behind_prop': ['yes'],\n",
       "  'entire_prop': ['yes'],\n",
       "  'front': ['yes'],\n",
       "  'more_than1': ['yes']},\n",
       " 'genMid.VAFX1154528_2.jpg': {'trees_behind_prop': ['yes'],\n",
       "  'lawn': ['yes'],\n",
       "  'front': ['yes'],\n",
       "  'more_than1': ['yes']},\n",
       " 'genMid.VAFX1155226_1.jpg': {'trees_behind_prop': ['yes'],\n",
       "  'entire_prop': ['yes'],\n",
       "  'front': ['yes']},\n",
       " 'genMid.VAFX1155234_1.jpg': {'trees_behind_prop': ['yes'],\n",
       "  'entire_prop': ['yes'],\n",
       "  'lawn': ['yes'],\n",
       "  'front': ['yes'],\n",
       "  'side': ['yes']},\n",
       " 'genMid.VAFX1155330_1.jpg': {'inside': ['yes']},\n",
       " 'genMid.VAFX1155514_1.jpg': {'trees_behind_prop': ['yes'],\n",
       "  'front': ['yes'],\n",
       "  'more_than1': ['yes']},\n",
       " 'genMid.VAFX1155782_2.jpg': {'lawn': ['yes'],\n",
       "  'front': ['yes'],\n",
       "  'more_than1': ['yes']},\n",
       " 'genMid.VAFX1155824_1.jpg': {'trees_behind_prop': ['yes'],\n",
       "  'entire_prop': ['yes'],\n",
       "  'lawn': ['yes'],\n",
       "  'front': ['yes'],\n",
       "  'cars': ['yes'],\n",
       "  'more_than1': ['yes']},\n",
       " 'genMid.VAFX1155842_1.jpg': {'front': ['yes'], 'more_than1': ['yes']},\n",
       " 'genMid.VAFX1155912_2.jpg': {'trees_behind_prop': ['yes'],\n",
       "  'entire_prop': ['yes'],\n",
       "  'front': ['yes'],\n",
       "  'more_than1': ['yes']},\n",
       " 'genMid.VAFX1156132_2.jpg': {'trees_behind_prop': ['yes'],\n",
       "  'entire_prop': ['yes'],\n",
       "  'lawn': ['yes'],\n",
       "  'front': ['yes'],\n",
       "  'more_than1': ['yes']},\n",
       " 'genMid.VAFX1156264_1.jpg': {'trees_behind_prop': ['yes'],\n",
       "  'entire_prop': ['yes'],\n",
       "  'lawn': ['yes'],\n",
       "  'front': ['yes'],\n",
       "  'more_than1': ['yes']},\n",
       " 'genMid.VAFX1156472_2.jpg': {'trees_behind_prop': ['yes'],\n",
       "  'entire_prop': ['yes'],\n",
       "  'lawn': ['yes'],\n",
       "  'front': ['yes'],\n",
       "  'more_than1': ['yes']},\n",
       " 'genMid.VAFX1156978_2.jpg': {'trees_behind_prop': ['yes'], 'front': ['yes']},\n",
       " 'genMid.VAFX1157234_2.jpg': {'trees_behind_prop': ['yes'],\n",
       "  'entire_prop': ['yes'],\n",
       "  'lawn': ['yes'],\n",
       "  'front': ['yes']},\n",
       " 'genMid.VAFX1158902_1.jpg': {'trees_behind_prop': ['yes'],\n",
       "  'lawn': ['yes'],\n",
       "  'front': ['yes'],\n",
       "  'more_than1': ['yes']},\n",
       " 'genMid.VAFX1159270_4.jpg': {'trees_behind_prop': ['yes'],\n",
       "  'entire_prop': ['yes'],\n",
       "  'lawn': ['yes'],\n",
       "  'front': ['yes'],\n",
       "  'side': ['yes']},\n",
       " 'item_1.jpg': {'inside': ['yes']}}"
      ]
     },
     "execution_count": 21,
     "metadata": {},
     "output_type": "execute_result"
    }
   ],
   "source": [
    "#check th_image labels\n",
    "th_annotations"
   ]
  },
  {
   "cell_type": "code",
   "execution_count": 22,
   "metadata": {},
   "outputs": [],
   "source": [
    "dill.dump(th_annotations, open('th.pkd', 'wb'))"
   ]
  }
 ],
 "metadata": {
  "kernelspec": {
   "display_name": "Python 3",
   "language": "python",
   "name": "python3"
  },
  "language_info": {
   "codemirror_mode": {
    "name": "ipython",
    "version": 3
   },
   "file_extension": ".py",
   "mimetype": "text/x-python",
   "name": "python",
   "nbconvert_exporter": "python",
   "pygments_lexer": "ipython3",
   "version": "3.8.3"
  }
 },
 "nbformat": 4,
 "nbformat_minor": 4
}
